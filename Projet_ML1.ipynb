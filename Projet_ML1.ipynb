{
 "cells": [
  {
   "attachments": {},
   "cell_type": "markdown",
   "metadata": {},
   "source": [
    "# Requirements"
   ]
  },
  {
   "cell_type": "code",
   "execution_count": 1,
   "metadata": {},
   "outputs": [],
   "source": [
    "import matplotlib.pyplot as plt\n",
    "import numpy as np\n",
    "import pandas as pd\n",
    "import seaborn as sns\n",
    "\n",
    "from sklearn.ensemble import GradientBoostingClassifier, RandomForestClassifier\n",
    "from sklearn.feature_selection import SelectKBest, f_classif\n",
    "from sklearn.linear_model import LogisticRegression\n",
    "from sklearn.metrics import ConfusionMatrixDisplay, confusion_matrix, accuracy_score, log_loss\n",
    "from sklearn.model_selection import RandomizedSearchCV, train_test_split\n",
    "from sklearn.neighbors import KNeighborsClassifier\n",
    "from sklearn.pipeline import Pipeline\n",
    "from sklearn.preprocessing import StandardScaler, OneHotEncoder"
   ]
  },
  {
   "attachments": {},
   "cell_type": "markdown",
   "metadata": {},
   "source": [
    "# 1) Exploration du dataset"
   ]
  },
  {
   "cell_type": "code",
   "execution_count": 2,
   "metadata": {},
   "outputs": [],
   "source": [
    "df = pd.read_csv('data/train.csv')"
   ]
  },
  {
   "attachments": {},
   "cell_type": "markdown",
   "metadata": {},
   "source": [
    "### Check pour les categorical valeurs."
   ]
  },
  {
   "cell_type": "code",
   "execution_count": 3,
   "metadata": {},
   "outputs": [
    {
     "data": {
      "text/html": [
       "<div>\n",
       "<style scoped>\n",
       "    .dataframe tbody tr th:only-of-type {\n",
       "        vertical-align: middle;\n",
       "    }\n",
       "\n",
       "    .dataframe tbody tr th {\n",
       "        vertical-align: top;\n",
       "    }\n",
       "\n",
       "    .dataframe thead th {\n",
       "        text-align: right;\n",
       "    }\n",
       "</style>\n",
       "<table border=\"1\" class=\"dataframe\">\n",
       "  <thead>\n",
       "    <tr style=\"text-align: right;\">\n",
       "      <th></th>\n",
       "      <th>X1</th>\n",
       "      <th>X2</th>\n",
       "      <th>X3</th>\n",
       "      <th>X4</th>\n",
       "      <th>X5</th>\n",
       "      <th>X6</th>\n",
       "      <th>X7</th>\n",
       "      <th>X8</th>\n",
       "      <th>X9</th>\n",
       "      <th>X10</th>\n",
       "      <th>X11</th>\n",
       "      <th>X12</th>\n",
       "      <th>Y</th>\n",
       "    </tr>\n",
       "  </thead>\n",
       "  <tbody>\n",
       "    <tr>\n",
       "      <th>0</th>\n",
       "      <td>3215.0</td>\n",
       "      <td>206.0</td>\n",
       "      <td>8.0</td>\n",
       "      <td>127.0</td>\n",
       "      <td>14.0</td>\n",
       "      <td>5588.0</td>\n",
       "      <td>215.0</td>\n",
       "      <td>248.0</td>\n",
       "      <td>168.0</td>\n",
       "      <td>1057.0</td>\n",
       "      <td>T1</td>\n",
       "      <td>T29</td>\n",
       "      <td>1.0</td>\n",
       "    </tr>\n",
       "    <tr>\n",
       "      <th>1</th>\n",
       "      <td>3022.0</td>\n",
       "      <td>18.0</td>\n",
       "      <td>7.0</td>\n",
       "      <td>0.0</td>\n",
       "      <td>0.0</td>\n",
       "      <td>3012.0</td>\n",
       "      <td>215.0</td>\n",
       "      <td>226.0</td>\n",
       "      <td>148.0</td>\n",
       "      <td>1476.0</td>\n",
       "      <td>T1</td>\n",
       "      <td>T23</td>\n",
       "      <td>1.0</td>\n",
       "    </tr>\n",
       "    <tr>\n",
       "      <th>2</th>\n",
       "      <td>3008.0</td>\n",
       "      <td>18.0</td>\n",
       "      <td>19.0</td>\n",
       "      <td>382.0</td>\n",
       "      <td>92.0</td>\n",
       "      <td>4715.0</td>\n",
       "      <td>201.0</td>\n",
       "      <td>197.0</td>\n",
       "      <td>127.0</td>\n",
       "      <td>3616.0</td>\n",
       "      <td>T1</td>\n",
       "      <td>T29</td>\n",
       "      <td>1.0</td>\n",
       "    </tr>\n",
       "    <tr>\n",
       "      <th>3</th>\n",
       "      <td>2595.0</td>\n",
       "      <td>296.0</td>\n",
       "      <td>24.0</td>\n",
       "      <td>85.0</td>\n",
       "      <td>28.0</td>\n",
       "      <td>1252.0</td>\n",
       "      <td>144.0</td>\n",
       "      <td>224.0</td>\n",
       "      <td>216.0</td>\n",
       "      <td>780.0</td>\n",
       "      <td>T3</td>\n",
       "      <td>T33</td>\n",
       "      <td>6.0</td>\n",
       "    </tr>\n",
       "    <tr>\n",
       "      <th>4</th>\n",
       "      <td>3261.0</td>\n",
       "      <td>87.0</td>\n",
       "      <td>4.0</td>\n",
       "      <td>42.0</td>\n",
       "      <td>-2.0</td>\n",
       "      <td>3719.0</td>\n",
       "      <td>226.0</td>\n",
       "      <td>233.0</td>\n",
       "      <td>142.0</td>\n",
       "      <td>3784.0</td>\n",
       "      <td>T1</td>\n",
       "      <td>T38</td>\n",
       "      <td>7.0</td>\n",
       "    </tr>\n",
       "  </tbody>\n",
       "</table>\n",
       "</div>"
      ],
      "text/plain": [
       "       X1     X2    X3     X4    X5      X6     X7     X8     X9     X10 X11  \\\n",
       "0  3215.0  206.0   8.0  127.0  14.0  5588.0  215.0  248.0  168.0  1057.0  T1   \n",
       "1  3022.0   18.0   7.0    0.0   0.0  3012.0  215.0  226.0  148.0  1476.0  T1   \n",
       "2  3008.0   18.0  19.0  382.0  92.0  4715.0  201.0  197.0  127.0  3616.0  T1   \n",
       "3  2595.0  296.0  24.0   85.0  28.0  1252.0  144.0  224.0  216.0   780.0  T3   \n",
       "4  3261.0   87.0   4.0   42.0  -2.0  3719.0  226.0  233.0  142.0  3784.0  T1   \n",
       "\n",
       "   X12    Y  \n",
       "0  T29  1.0  \n",
       "1  T23  1.0  \n",
       "2  T29  1.0  \n",
       "3  T33  6.0  \n",
       "4  T38  7.0  "
      ]
     },
     "execution_count": 3,
     "metadata": {},
     "output_type": "execute_result"
    }
   ],
   "source": [
    "df.head()"
   ]
  },
  {
   "attachments": {},
   "cell_type": "markdown",
   "metadata": {},
   "source": [
    "On remarque que le dataset possède bien 2 categorical valeur qui sont les colonnes X11 et X12."
   ]
  },
  {
   "cell_type": "code",
   "execution_count": 4,
   "metadata": {},
   "outputs": [
    {
     "name": "stdout",
     "output_type": "stream",
     "text": [
      "<class 'pandas.core.frame.DataFrame'>\n",
      "RangeIndex: 40670 entries, 0 to 40669\n",
      "Data columns (total 13 columns):\n",
      " #   Column  Non-Null Count  Dtype   \n",
      "---  ------  --------------  -----   \n",
      " 0   X1      40624 non-null  float64 \n",
      " 1   X2      40630 non-null  float64 \n",
      " 2   X3      40639 non-null  float64 \n",
      " 3   X4      40636 non-null  float64 \n",
      " 4   X5      40630 non-null  float64 \n",
      " 5   X6      40622 non-null  float64 \n",
      " 6   X7      40637 non-null  float64 \n",
      " 7   X8      40637 non-null  float64 \n",
      " 8   X9      40625 non-null  float64 \n",
      " 9   X10     40634 non-null  float64 \n",
      " 10  X11     40632 non-null  category\n",
      " 11  X12     40632 non-null  category\n",
      " 12  Y       40632 non-null  float64 \n",
      "dtypes: category(2), float64(11)\n",
      "memory usage: 3.5 MB\n"
     ]
    }
   ],
   "source": [
    "df = df.astype({'X11': 'category', 'X12': 'category'})\n",
    "df.info()"
   ]
  },
  {
   "attachments": {},
   "cell_type": "markdown",
   "metadata": {},
   "source": [
    "### Check pour les valeurs manquantes."
   ]
  },
  {
   "cell_type": "code",
   "execution_count": 5,
   "metadata": {},
   "outputs": [
    {
     "data": {
      "text/plain": [
       "X1     46\n",
       "X2     40\n",
       "X3     31\n",
       "X4     34\n",
       "X5     40\n",
       "X6     48\n",
       "X7     33\n",
       "X8     33\n",
       "X9     45\n",
       "X10    36\n",
       "X11    38\n",
       "X12    38\n",
       "Y      38\n",
       "dtype: int64"
      ]
     },
     "execution_count": 5,
     "metadata": {},
     "output_type": "execute_result"
    }
   ],
   "source": [
    "df.isna().sum()"
   ]
  },
  {
   "attachments": {},
   "cell_type": "markdown",
   "metadata": {},
   "source": [
    "On remarque également des valeurs manquantes dans le dataset.\n",
    "Nous allons donc retirer les lignes qui possèdent des valeurs manquantes."
   ]
  },
  {
   "cell_type": "code",
   "execution_count": 6,
   "metadata": {},
   "outputs": [
    {
     "data": {
      "text/plain": [
       "X1     0\n",
       "X2     0\n",
       "X3     0\n",
       "X4     0\n",
       "X5     0\n",
       "X6     0\n",
       "X7     0\n",
       "X8     0\n",
       "X9     0\n",
       "X10    0\n",
       "X11    0\n",
       "X12    0\n",
       "Y      0\n",
       "dtype: int64"
      ]
     },
     "execution_count": 6,
     "metadata": {},
     "output_type": "execute_result"
    }
   ],
   "source": [
    "df.dropna(inplace=True)\n",
    "df.isna().sum()"
   ]
  },
  {
   "attachments": {},
   "cell_type": "markdown",
   "metadata": {},
   "source": [
    "### Distriution des valeurs de la colonne X11."
   ]
  },
  {
   "cell_type": "code",
   "execution_count": 7,
   "metadata": {},
   "outputs": [
    {
     "data": {
      "text/plain": [
       "T1    17953\n",
       "T3    17691\n",
       "T4     2487\n",
       "T2     2041\n",
       "Name: X11, dtype: int64"
      ]
     },
     "execution_count": 7,
     "metadata": {},
     "output_type": "execute_result"
    }
   ],
   "source": [
    "df['X11'].value_counts()"
   ]
  },
  {
   "attachments": {},
   "cell_type": "markdown",
   "metadata": {},
   "source": [
    "On remarque aussi que le nombre de T1 et de T3 est très grand par rapport au nombre de T2 et T4. Il faudra le prendre en compte pour plus tard."
   ]
  },
  {
   "attachments": {},
   "cell_type": "markdown",
   "metadata": {},
   "source": [
    "### Distribution des valeurs de la colonne X12."
   ]
  },
  {
   "cell_type": "code",
   "execution_count": 8,
   "metadata": {},
   "outputs": [
    {
     "data": {
      "text/plain": [
       "T29    7899\n",
       "T23    3935\n",
       "T32    3694\n",
       "T33    3142\n",
       "T22    2293\n",
       "T10    2278\n",
       "T12    2106\n",
       "T30    2096\n",
       "T31    1788\n",
       "T24    1454\n",
       "T13    1262\n",
       "T38    1048\n",
       "T39     965\n",
       "T11     901\n",
       "T4      871\n",
       "T40     641\n",
       "T20     614\n",
       "T2      535\n",
       "T6      419\n",
       "T3      316\n",
       "T19     284\n",
       "T17     240\n",
       "T26     184\n",
       "T1      181\n",
       "T16     170\n",
       "T35     127\n",
       "T18     125\n",
       "T34     110\n",
       "T5       90\n",
       "T9       84\n",
       "T27      82\n",
       "T28      63\n",
       "T21      52\n",
       "T14      49\n",
       "T25      25\n",
       "T37      18\n",
       "T8       14\n",
       "T36       9\n",
       "T7        7\n",
       "T15       1\n",
       "Name: X12, dtype: int64"
      ]
     },
     "execution_count": 8,
     "metadata": {},
     "output_type": "execute_result"
    }
   ],
   "source": [
    "df['X12'].value_counts()"
   ]
  },
  {
   "attachments": {},
   "cell_type": "markdown",
   "metadata": {},
   "source": [
    "On remarque à nouveau que certaines valeurs sont fortement présentes (T29) et que d'autres sont très rare (T15)."
   ]
  },
  {
   "cell_type": "code",
   "execution_count": 9,
   "metadata": {},
   "outputs": [
    {
     "data": {
      "text/plain": [
       "2.0    19577\n",
       "1.0    14648\n",
       "3.0     2475\n",
       "7.0     1418\n",
       "6.0     1206\n",
       "5.0      657\n",
       "4.0      191\n",
       "Name: Y, dtype: int64"
      ]
     },
     "execution_count": 9,
     "metadata": {},
     "output_type": "execute_result"
    }
   ],
   "source": [
    "df['Y'].value_counts()"
   ]
  },
  {
   "attachments": {},
   "cell_type": "markdown",
   "metadata": {},
   "source": [
    "Peu de prédiction pour le 4.0.\n",
    "Difficultés pour pouvoir les identifier."
   ]
  },
  {
   "attachments": {},
   "cell_type": "markdown",
   "metadata": {},
   "source": [
    "### Recherche des meilleurs variables."
   ]
  },
  {
   "cell_type": "code",
   "execution_count": 10,
   "metadata": {},
   "outputs": [],
   "source": [
    "X = df.drop(['Y'], axis=1)\n",
    "y = df['Y']\n",
    "\n",
    "X_train, X_test, y_train, y_test = train_test_split(\n",
    "    X, y, train_size=0.8, test_size=0.2, shuffle=True, random_state=0\n",
    ")"
   ]
  },
  {
   "cell_type": "code",
   "execution_count": 52,
   "metadata": {},
   "outputs": [
    {
     "data": {
      "image/png": "[encoded data removed]",
      "text/plain": [
       "<Figure size 1000x800 with 12 Axes>"
      ]
     },
     "metadata": {},
     "output_type": "display_data"
    }
   ],
   "source": [
    "fig, axes = plt.subplots(4, 3, figsize=(10, 8), sharex=True)\n",
    "for column, axis in zip(X_train.columns, axes.flatten()):\n",
    "    sns.boxplot(x=y_train, y=X_train[column], ax=axis)\n",
    "axes.flatten()[-1].set_visible(False)\n",
    "fig.tight_layout()"
   ]
  },
  {
   "attachments": {},
   "cell_type": "markdown",
   "metadata": {},
   "source": [
    "A première vue, \"X1\", \"X2\" et \"X6\" sont les colonnes les plus intéressantes."
   ]
  },
  {
   "cell_type": "code",
   "execution_count": 13,
   "metadata": {},
   "outputs": [],
   "source": [
    "sns.pairplot(pd.concat([X_train, y_train], axis=1), hue='Y')"
   ]
  },
  {
   "attachments": {},
   "cell_type": "markdown",
   "metadata": {},
   "source": [
    "### Normaliser et one hot encoding pour les variables categorical."
   ]
  },
  {
   "cell_type": "code",
   "execution_count": 11,
   "metadata": {},
   "outputs": [],
   "source": [
    "#One hot encoding\n",
    "dummies = pd.get_dummies(X_train[[\"X11\", \"X12\"]], drop_first=True)\n",
    "X_train = X_train.drop([\"X11\", \"X12\"], axis=1)\n",
    "X_train = pd.concat([X_train, dummies], axis=1)\n",
    "\n",
    "dummies = pd.get_dummies(X_test[[\"X11\", \"X12\"]], drop_first=True)\n",
    "X_test = X_test.drop([\"X11\", \"X12\"], axis=1)\n",
    "X_test = pd.concat([X_test, dummies], axis=1)\n",
    "\n",
    "# Normaliser.\n",
    "X_scaler = StandardScaler().fit(X_train)\n",
    "X_train = pd.DataFrame(X_scaler.transform(X_train), columns=X_train.columns)\n",
    "X_test = pd.DataFrame(X_scaler.transform(X_test), columns=X_test.columns)"
   ]
  },
  {
   "attachments": {},
   "cell_type": "markdown",
   "metadata": {},
   "source": [
    "# Différentes ML."
   ]
  },
  {
   "attachments": {},
   "cell_type": "markdown",
   "metadata": {},
   "source": [
    "## Paramètres"
   ]
  },
  {
   "cell_type": "code",
   "execution_count": 12,
   "metadata": {},
   "outputs": [],
   "source": [
    "default_grid_params = dict(n_iter=100, cv=5, n_jobs=4)\n",
    "\n",
    "param_grid_knn = {\n",
    "    'n_neighbors': [3, 5, 7, 10, 14, 20, 50, 100, 200, 500, 1000],\n",
    "    'weights': ['uniform', 'distance'],\n",
    "    'p': [1, 2],\n",
    "}\n",
    "\n",
    "param_grid_lr = {\n",
    "    'penalty': ['l2'],\n",
    "    'C': [0.001, 0.01, 0.1, 1, 10, 100],\n",
    "    'fit_intercept': [True, False],\n",
    "}\n",
    "\n",
    "param_grid_rf = {\n",
    "    'criterion': ['gini', 'entropy', 'log_loss'],\n",
    "    'n_estimators': [100, 200, 300],\n",
    "    'max_depth': [None, 2, 5, 10],\n",
    "    'min_samples_split': [2, 5, 10],\n",
    "    'min_samples_leaf': [1, 2, 4]\n",
    "}\n",
    "\n",
    "param_grid_gb = {\n",
    "    'loss': ['log_loss'],\n",
    "    'learning_rate': [0.02, 0.1, 0.5],\n",
    "    'n_estimators': [100, 200, 300],\n",
    "    'criterion': ['friedman_mse', 'squared_error'],\n",
    "    'max_depth': [None, 2, 5, 10],\n",
    "}"
   ]
  },
  {
   "attachments": {},
   "cell_type": "markdown",
   "metadata": {},
   "source": [
    "## KNN"
   ]
  },
  {
   "cell_type": "code",
   "execution_count": 82,
   "metadata": {},
   "outputs": [
    {
     "name": "stderr",
     "output_type": "stream",
     "text": [
      "c:\\Users\\benoi\\AppData\\Local\\Programs\\Python\\Python311\\Lib\\site-packages\\sklearn\\model_selection\\_search.py:305: UserWarning: The total space of parameters 44 is smaller than n_iter=100. Running 44 iterations. For exhaustive searches, use GridSearchCV.\n",
      "  warnings.warn(\n"
     ]
    },
    {
     "name": "stdout",
     "output_type": "stream",
     "text": [
      "Accuracy: 0.7910392034847542\n"
     ]
    }
   ],
   "source": [
    "# Model\n",
    "knn = KNeighborsClassifier()\n",
    "model = RandomizedSearchCV(knn, param_grid_knn, scoring='neg_log_loss', **default_grid_params).fit(X_train, y_train)\n",
    "\n",
    "# Accuracy\n",
    "y_pred = model.predict(X_test)\n",
    "print(f'Accuracy: {accuracy_score(y_test, y_pred)}')\n",
    "\n",
    "# Log loss\n",
    "y_pred_proba = model.predict_proba(X_test)"
   ]
  },
  {
   "cell_type": "code",
   "execution_count": 88,
   "metadata": {},
   "outputs": [
    {
     "name": "stdout",
     "output_type": "stream",
     "text": [
      "Log loss: 0.5461428488465225\n"
     ]
    }
   ],
   "source": [
    "print(f'Log loss: {log_loss(y_test, y_pred_proba)}')"
   ]
  },
  {
   "attachments": {},
   "cell_type": "markdown",
   "metadata": {},
   "source": [
    "## Logistic Regression"
   ]
  },
  {
   "cell_type": "code",
   "execution_count": null,
   "metadata": {},
   "outputs": [],
   "source": []
  },
  {
   "attachments": {},
   "cell_type": "markdown",
   "metadata": {},
   "source": [
    "## Random Forest"
   ]
  },
  {
   "cell_type": "code",
   "execution_count": null,
   "metadata": {},
   "outputs": [],
   "source": []
  },
  {
   "attachments": {},
   "cell_type": "markdown",
   "metadata": {},
   "source": [
    "## Gradient Boosting"
   ]
  },
  {
   "cell_type": "code",
   "execution_count": null,
   "metadata": {},
   "outputs": [],
   "source": []
  },
  {
   "attachments": {},
   "cell_type": "markdown",
   "metadata": {},
   "source": [
    "## ???"
   ]
  },
  {
   "cell_type": "code",
   "execution_count": null,
   "metadata": {},
   "outputs": [],
   "source": []
  },
  {
   "attachments": {},
   "cell_type": "markdown",
   "metadata": {},
   "source": [
    "## Test for Kaggle"
   ]
  },
  {
   "cell_type": "code",
   "execution_count": null,
   "metadata": {},
   "outputs": [],
   "source": [
    "pred_prob_test = pd.DataFrame(model.predict_proba(X_test_sub))\n",
    "pred_prob_test.rename(columns = {0: 'Y_1', 1: 'Y_2', 2: 'Y_3', 3: 'Y_4', 4: 'Y_5', 5:'Y_6', 6:'Y_7'}, inplace = True)\n",
    "idx = pred_prob_test.index\n",
    "pred_prob_test.insert(0, 'id', idx)\n",
    "pred_prob_test.to_csv(\"benchmark.csv\", index=False)"
   ]
  }
 ],
 "metadata": {
  "kernelspec": {
   "display_name": "Python 3",
   "language": "python",
   "name": "python3"
  },
  "language_info": {
   "codemirror_mode": {
    "name": "ipython",
    "version": 3
   },
   "file_extension": ".py",
   "mimetype": "text/x-python",
   "name": "python",
   "nbconvert_exporter": "python",
   "pygments_lexer": "ipython3",
   "version": "3.11.1"
  },
  "orig_nbformat": 4
 },
 "nbformat": 4,
 "nbformat_minor": 2
}
